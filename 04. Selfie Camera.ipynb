{
 "cells": [
  {
   "cell_type": "markdown",
   "id": "82e7a7dd",
   "metadata": {},
   "source": [
    "#### Selfie Camera"
   ]
  },
  {
   "cell_type": "code",
   "execution_count": 5,
   "id": "e531b980",
   "metadata": {},
   "outputs": [],
   "source": [
    "import cv2\n",
    "\n",
    "# Function to capture a selfie\n",
    "def take_selfie():\n",
    "    # Access the webcam\n",
    "    cap = cv2.VideoCapture(0)\n",
    "\n",
    "    # Check if the webcam is opened correctly\n",
    "    if not cap.isOpened():\n",
    "        print(\"Unable to access the webcam.\")\n",
    "        return\n",
    "\n",
    "    # Read a frame from the webcam\n",
    "    ret, frame = cap.read()\n",
    "\n",
    "    # Check if the frame is captured successfully\n",
    "    if not ret:\n",
    "        print(\"Failed to capture the frame.\")\n",
    "        return\n",
    "\n",
    "    # Display the frame to the user\n",
    "    cv2.imshow(\"Selfie\", frame)\n",
    "\n",
    "    # Save the frame as an image\n",
    "    cv2.imwrite(\"selfie.jpg\", frame)\n",
    "\n",
    "    # Release the webcam and close the window\n",
    "    cap.release()\n",
    "    cv2.destroyAllWindows()\n",
    "\n",
    "# Call the function to take a selfie\n",
    "take_selfie()"
   ]
  },
  {
   "cell_type": "code",
   "execution_count": null,
   "id": "71ca97a7",
   "metadata": {},
   "outputs": [],
   "source": []
  },
  {
   "cell_type": "code",
   "execution_count": null,
   "id": "d90f8801",
   "metadata": {},
   "outputs": [],
   "source": []
  }
 ],
 "metadata": {
  "kernelspec": {
   "display_name": "Python 3 (ipykernel)",
   "language": "python",
   "name": "python3"
  },
  "language_info": {
   "codemirror_mode": {
    "name": "ipython",
    "version": 3
   },
   "file_extension": ".py",
   "mimetype": "text/x-python",
   "name": "python",
   "nbconvert_exporter": "python",
   "pygments_lexer": "ipython3",
   "version": "3.9.13"
  }
 },
 "nbformat": 4,
 "nbformat_minor": 5
}
