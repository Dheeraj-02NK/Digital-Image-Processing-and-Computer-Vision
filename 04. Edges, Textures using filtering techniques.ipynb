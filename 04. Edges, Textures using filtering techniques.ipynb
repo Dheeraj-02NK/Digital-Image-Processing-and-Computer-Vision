{
 "cells": [
  {
   "cell_type": "code",
   "execution_count": 4,
   "id": "316ea224",
   "metadata": {},
   "outputs": [],
   "source": [
    "import cv2\n",
    "\n",
    "img=cv2.imread('audi.jpg',cv2.IMREAD_GRAYSCALE)\n",
    "\n",
    "blurred = cv2.GaussianBlur(img,(5,5), 0)\n",
    "edges = cv2.Canny(blurred,100,200)\n",
    "laplacian = cv2.Laplacian(blurred,cv2.CV_64F)\n",
    "kernel = cv2.getGaborKernel((10,10),3,0,10,0.5,0,ktype=cv2.CV_32F)\n",
    "gabor = cv2.filter2D(img,cv2.CV_8UC3,kernel)\n",
    "\n",
    "cv2.imshow('Original', img)\n",
    "cv2.imshow('Canny Edges', edges)\n",
    "cv2.imshow('Laplacian Edges', laplacian)\n",
    "cv2.imshow('Gabor Filtered', gabor)\n",
    "\n",
    "cv2.waitKey(0)\n",
    "cv2.destroyAllWindows()"
   ]
  }
 ],
 "metadata": {
  "kernelspec": {
   "display_name": "Python 3 (ipykernel)",
   "language": "python",
   "name": "python3"
  },
  "language_info": {
   "codemirror_mode": {
    "name": "ipython",
    "version": 3
   },
   "file_extension": ".py",
   "mimetype": "text/x-python",
   "name": "python",
   "nbconvert_exporter": "python",
   "pygments_lexer": "ipython3",
   "version": "3.9.13"
  }
 },
 "nbformat": 4,
 "nbformat_minor": 5
}
