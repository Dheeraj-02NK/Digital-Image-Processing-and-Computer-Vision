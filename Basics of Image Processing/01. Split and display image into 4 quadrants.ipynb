{
 "cells": [
  {
   "cell_type": "code",
   "execution_count": 1,
   "id": "f62d7c57",
   "metadata": {},
   "outputs": [
    {
     "name": "stdout",
     "output_type": "stream",
     "text": [
      "Requirement already satisfied: opencv-python in c:\\users\\dheer\\anaconda3\\lib\\site-packages (4.7.0.72)\n",
      "Requirement already satisfied: numpy>=1.19.3 in c:\\users\\dheer\\anaconda3\\lib\\site-packages (from opencv-python) (1.21.5)\n"
     ]
    }
   ],
   "source": [
    "!pip install opencv-python"
   ]
  },
  {
   "cell_type": "code",
   "execution_count": null,
   "id": "ac50e543",
   "metadata": {},
   "outputs": [],
   "source": [
    "import cv2\n",
    "img=cv2.imread('audi.jpg')\n",
    "height, width = img.shape[:2]\n",
    "half_width = width//2\n",
    "half_height = height//2\n",
    "\n",
    "top_left = img[0:half_height, 0:half_width]\n",
    "top_right = img[0:half_height, half_width:width]\n",
    "bottom_left = img[half_height:height,0:half_width]\n",
    "bottom_right = img[half_height:height,half_width:width]\n",
    "\n",
    "cv2.imshow('Top Left', top_left)\n",
    "cv2.imshow('Top Right', top_right)\n",
    "cv2.imshow('Bottom Left', bottom_left)\n",
    "cv2.imshow('Bottom Right', bottom_right)\n",
    "\n",
    "cv2.waitKey(0)\n",
    "cv2.destroyAllWindows()"
   ]
  }
 ],
 "metadata": {
  "kernelspec": {
   "display_name": "Python 3 (ipykernel)",
   "language": "python",
   "name": "python3"
  },
  "language_info": {
   "codemirror_mode": {
    "name": "ipython",
    "version": 3
   },
   "file_extension": ".py",
   "mimetype": "text/x-python",
   "name": "python",
   "nbconvert_exporter": "python",
   "pygments_lexer": "ipython3",
   "version": "3.9.13"
  }
 },
 "nbformat": 4,
 "nbformat_minor": 5
}
