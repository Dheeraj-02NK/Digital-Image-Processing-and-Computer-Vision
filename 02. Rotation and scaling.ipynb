{
 "cells": [
  {
   "cell_type": "code",
   "execution_count": 1,
   "id": "7c11e9f3",
   "metadata": {},
   "outputs": [],
   "source": [
    "import cv2\n",
    "import numpy as np\n",
    "img = cv2.imread('audi.jpg')\n",
    "\n",
    "angle = 60 \n",
    "scale = 1.5\n",
    "tx,ty = 50,-30\n",
    "\n",
    "h,w = img.shape[:2]\n",
    "\n",
    "M_rotate = cv2.getRotationMatrix2D((w//2,h//2),angle,scale)\n",
    "M_translate = np.float32([[1,0,tx],[0,1,ty]])\n",
    "\n",
    "img_rotate = cv2.warpAffine(img, M_rotate, (w,h))\n",
    "img_transformed = cv2.warpAffine(img, M_translate, (w,h))\n",
    "\n",
    "cv2.imshow('Orginal',img)\n",
    "cv2.imshow('Rotated',img_rotate)\n",
    "cv2.imshow('Transformed',img_transformed)\n",
    "\n",
    "cv2.waitKey(0)\n",
    "cv2.destroyAllWindows()"
   ]
  },
  {
   "cell_type": "code",
   "execution_count": null,
   "id": "6344b2b4",
   "metadata": {},
   "outputs": [],
   "source": []
  }
 ],
 "metadata": {
  "kernelspec": {
   "display_name": "Python 3 (ipykernel)",
   "language": "python",
   "name": "python3"
  },
  "language_info": {
   "codemirror_mode": {
    "name": "ipython",
    "version": 3
   },
   "file_extension": ".py",
   "mimetype": "text/x-python",
   "name": "python",
   "nbconvert_exporter": "python",
   "pygments_lexer": "ipython3",
   "version": "3.9.13"
  }
 },
 "nbformat": 4,
 "nbformat_minor": 5
}
